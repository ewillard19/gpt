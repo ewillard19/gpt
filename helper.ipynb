{
 "cells": [
  {
   "cell_type": "code",
   "execution_count": 20,
   "metadata": {},
   "outputs": [],
   "source": [
    "from utils import *\n",
    "from positional_encoding import PositionalEncoding\n",
    "from my_embedding import MyEmbedding\n",
    "from transformer import TransformerBlock"
   ]
  },
  {
   "cell_type": "code",
   "execution_count": 13,
   "metadata": {},
   "outputs": [],
   "source": [
    "dataset_ = load_dataset(\"daily_dialog\")\n",
    "texts = dataset_[\"train\"][\"dialog\"]\n",
    "\n",
    "def get_corpus(texts):\n",
    "\n",
    "    corpus = []\n",
    "    for dialog in texts:\n",
    "        for sentence in dialog:\n",
    "            if sentence.strip():\n",
    "                corpus.append(sentence.strip().lower())\n",
    "\n",
    "    def clean(text):\n",
    "        text = text.lower()\n",
    "        text = re.sub(r\"[^\\w\\s]\", \"\", text)  # supprime ponctuation\n",
    "        text = re.sub(r\"\\s+\", \" \", text).strip()\n",
    "        return text\n",
    "\n",
    "    corpus = [clean(s) for s in corpus if len(s.strip()) > 0]\n",
    "\n",
    "\n",
    "    tokens = set(\" \".join(corpus).split())\n",
    "    vocab = {word: i+1 for i, word in enumerate(tokens)}  # +1 pour réserver 0 = padding\n",
    "    vocab[\"<PAD>\"] = 0\n",
    "    inv_vocab = {i: w for w, i in vocab.items()}\n",
    "\n",
    "    encoded_corpus = []\n",
    "    for lines in corpus:\n",
    "        encoded_corpus.append([vocab[word] for word in lines.split()])\n",
    "    \n",
    "    return encoded_corpus, vocab, inv_vocab, tokens\n",
    "\n",
    "encoded_corpus, vocab, inv_vocab, tokens = get_corpus(texts)"
   ]
  },
  {
   "cell_type": "code",
   "execution_count": 15,
   "metadata": {},
   "outputs": [],
   "source": [
    "class MiniTransformerLM(nn.Module):\n",
    "    def __init__(self, vocab_size, d_model=64, max_len=256):\n",
    "        super().__init__()\n",
    "        self.embed = MyEmbedding(vocab_size, d_model)\n",
    "        self.pos_enc = PositionalEncoding(d_model, max_len)\n",
    "        self.blocks = nn.ModuleList([TransformerBlock(d_model) for _ in range(3)])\n",
    "        self.to_logits = nn.Linear(d_model, vocab_size)\n",
    "\n",
    "    def forward(self, x):\n",
    "        x = self.embed(x)\n",
    "        x = self.pos_enc(x)\n",
    "        for block in self.blocks:\n",
    "            x = block(x)\n",
    "        logits = self.to_logits(x)\n",
    "        return logits"
   ]
  },
  {
   "cell_type": "code",
   "execution_count": 16,
   "metadata": {},
   "outputs": [],
   "source": [
    "class LanguageDataset(Dataset):\n",
    "    def __init__(self, encoded_corpus):\n",
    "        self.data = encoded_corpus\n",
    "\n",
    "    def __len__(self):\n",
    "        return len(self.data)\n",
    "\n",
    "    def __getitem__(self, idx):\n",
    "        seq = self.data[idx]\n",
    "        input_ids = torch.tensor(seq[:-1])   # tous sauf dernier\n",
    "        target_ids = torch.tensor(seq[1:])   # tous sauf premier\n",
    "        return input_ids, target_ids\n",
    "\n",
    "\n",
    "def collate_fn(batch):\n",
    "    inputs, targets = zip(*batch)\n",
    "    inputs = pad_sequence(inputs, batch_first=True, padding_value=0)\n",
    "    targets = pad_sequence(targets, batch_first=True, padding_value=0)\n",
    "    return inputs, targets\n"
   ]
  },
  {
   "cell_type": "code",
   "execution_count": 17,
   "metadata": {},
   "outputs": [],
   "source": [
    "dataset = LanguageDataset(encoded_corpus)\n",
    "loader = DataLoader(dataset, batch_size=16, shuffle=True, collate_fn=collate_fn)"
   ]
  },
  {
   "cell_type": "code",
   "execution_count": null,
   "metadata": {},
   "outputs": [],
   "source": [
    "# device = (torch.device(\"mps\") if torch.backends.mps.is_available() else torch.device(\"cpu\"))\n",
    "device = (torch.device(\"cuda\") if torch.cuda.is_available() else torch.device(\"cpu\"))\n",
    "print(device)"
   ]
  },
  {
   "cell_type": "code",
   "execution_count": 21,
   "metadata": {},
   "outputs": [
    {
     "name": "stdout",
     "output_type": "stream",
     "text": [
      "Epoch 3 - Loss: 3639.0905\n",
      "Epoch 4 - Loss: 3130.1553\n",
      "Epoch 5 - Loss: 2757.5247\n",
      "Epoch 6 - Loss: 2499.6595\n",
      "Epoch 7 - Loss: 2298.1162\n",
      "Epoch 8 - Loss: 2146.4273\n",
      "Epoch 9 - Loss: 2013.1704\n",
      "Epoch 10 - Loss: 1901.5796\n"
     ]
    }
   ],
   "source": [
    "model = MiniTransformerLM(vocab_size=len(vocab)).to(device)\n",
    "\n",
    "criterion = nn.CrossEntropyLoss(ignore_index=0)  # ignore padding\n",
    "optimizer = torch.optim.Adam(model.parameters(), lr=1e-3)\n",
    "\n",
    "for epoch in range(10):\n",
    "\n",
    "    if epoch == 0:\n",
    "        print(\"start training\")\n",
    "        \n",
    "    model.train()\n",
    "    total_loss = 0\n",
    "\n",
    "    for input_ids, target_ids in loader:\n",
    "        input_ids = input_ids.to(device).long()\n",
    "        target_ids = target_ids.to(device).long()\n",
    "\n",
    "        logits = model(input_ids)  # [batch, seq, vocab]\n",
    "        logits = logits.view(-1, logits.size(-1))     # [batch*seq, vocab]\n",
    "        targets = target_ids.view(-1)                 # [batch*seq]\n",
    "\n",
    "        loss = criterion(logits, targets)\n",
    "        total_loss += loss.item()\n",
    "\n",
    "        optimizer.zero_grad()\n",
    "        loss.backward()\n",
    "        optimizer.step()\n",
    "\n",
    "    print(f\"Epoch {epoch+1} - Loss: {total_loss:.4f}\")"
   ]
  }
 ],
 "metadata": {
  "language_info": {
   "name": "python"
  }
 },
 "nbformat": 4,
 "nbformat_minor": 2
}
